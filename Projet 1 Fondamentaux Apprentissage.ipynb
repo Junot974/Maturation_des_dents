{
 "cells": [
  {
   "cell_type": "markdown",
   "metadata": {},
   "source": [
    "### 1. Chargement du dataset et visualisation de ce dernier"
   ]
  },
  {
   "cell_type": "code",
   "execution_count": 78,
   "metadata": {},
   "outputs": [
    {
     "data": {
      "text/html": [
       "<div>\n",
       "<style scoped>\n",
       "    .dataframe tbody tr th:only-of-type {\n",
       "        vertical-align: middle;\n",
       "    }\n",
       "\n",
       "    .dataframe tbody tr th {\n",
       "        vertical-align: top;\n",
       "    }\n",
       "\n",
       "    .dataframe thead th {\n",
       "        text-align: right;\n",
       "    }\n",
       "</style>\n",
       "<table border=\"1\" class=\"dataframe\">\n",
       "  <thead>\n",
       "    <tr style=\"text-align: right;\">\n",
       "      <th></th>\n",
       "      <th>PAT_SEX</th>\n",
       "      <th>PAT_AGE</th>\n",
       "      <th>VAL_I1</th>\n",
       "      <th>VAL_I2</th>\n",
       "      <th>VAL_C1</th>\n",
       "      <th>VAL_PM1</th>\n",
       "      <th>VAL_PM2</th>\n",
       "      <th>VAL_M1</th>\n",
       "      <th>VAL_M2</th>\n",
       "      <th>VAL_M3</th>\n",
       "    </tr>\n",
       "    <tr>\n",
       "      <th>ID</th>\n",
       "      <th></th>\n",
       "      <th></th>\n",
       "      <th></th>\n",
       "      <th></th>\n",
       "      <th></th>\n",
       "      <th></th>\n",
       "      <th></th>\n",
       "      <th></th>\n",
       "      <th></th>\n",
       "      <th></th>\n",
       "    </tr>\n",
       "  </thead>\n",
       "  <tbody>\n",
       "    <tr>\n",
       "      <th>1</th>\n",
       "      <td>2</td>\n",
       "      <td>4.58</td>\n",
       "      <td>C</td>\n",
       "      <td>C</td>\n",
       "      <td>C</td>\n",
       "      <td>C</td>\n",
       "      <td>B</td>\n",
       "      <td>E</td>\n",
       "      <td>B</td>\n",
       "      <td>0</td>\n",
       "    </tr>\n",
       "    <tr>\n",
       "      <th>2</th>\n",
       "      <td>2</td>\n",
       "      <td>8.26</td>\n",
       "      <td>G</td>\n",
       "      <td>G</td>\n",
       "      <td>E</td>\n",
       "      <td>E</td>\n",
       "      <td>D</td>\n",
       "      <td>G</td>\n",
       "      <td>D</td>\n",
       "      <td>0</td>\n",
       "    </tr>\n",
       "    <tr>\n",
       "      <th>3</th>\n",
       "      <td>2</td>\n",
       "      <td>9.04</td>\n",
       "      <td>H</td>\n",
       "      <td>H</td>\n",
       "      <td>F</td>\n",
       "      <td>E</td>\n",
       "      <td>E</td>\n",
       "      <td>G</td>\n",
       "      <td>D</td>\n",
       "      <td>0</td>\n",
       "    </tr>\n",
       "    <tr>\n",
       "      <th>4</th>\n",
       "      <td>2</td>\n",
       "      <td>9.86</td>\n",
       "      <td>H</td>\n",
       "      <td>H</td>\n",
       "      <td>F</td>\n",
       "      <td>F</td>\n",
       "      <td>E</td>\n",
       "      <td>H</td>\n",
       "      <td>E</td>\n",
       "      <td>0</td>\n",
       "    </tr>\n",
       "    <tr>\n",
       "      <th>5</th>\n",
       "      <td>2</td>\n",
       "      <td>10.35</td>\n",
       "      <td>H</td>\n",
       "      <td>H</td>\n",
       "      <td>F</td>\n",
       "      <td>F</td>\n",
       "      <td>E</td>\n",
       "      <td>G</td>\n",
       "      <td>E</td>\n",
       "      <td>0</td>\n",
       "    </tr>\n",
       "    <tr>\n",
       "      <th>...</th>\n",
       "      <td>...</td>\n",
       "      <td>...</td>\n",
       "      <td>...</td>\n",
       "      <td>...</td>\n",
       "      <td>...</td>\n",
       "      <td>...</td>\n",
       "      <td>...</td>\n",
       "      <td>...</td>\n",
       "      <td>...</td>\n",
       "      <td>...</td>\n",
       "    </tr>\n",
       "    <tr>\n",
       "      <th>7431</th>\n",
       "      <td>1</td>\n",
       "      <td>15.89</td>\n",
       "      <td>H</td>\n",
       "      <td>H</td>\n",
       "      <td>H</td>\n",
       "      <td>H</td>\n",
       "      <td>NaN</td>\n",
       "      <td>H</td>\n",
       "      <td>H</td>\n",
       "      <td>D</td>\n",
       "    </tr>\n",
       "    <tr>\n",
       "      <th>7432</th>\n",
       "      <td>2</td>\n",
       "      <td>12.73</td>\n",
       "      <td>H</td>\n",
       "      <td>H</td>\n",
       "      <td>G</td>\n",
       "      <td>G</td>\n",
       "      <td>F</td>\n",
       "      <td>H</td>\n",
       "      <td>F</td>\n",
       "      <td>C</td>\n",
       "    </tr>\n",
       "    <tr>\n",
       "      <th>7434</th>\n",
       "      <td>1</td>\n",
       "      <td>8.39</td>\n",
       "      <td>H</td>\n",
       "      <td>H</td>\n",
       "      <td>F</td>\n",
       "      <td>E</td>\n",
       "      <td>E</td>\n",
       "      <td>G</td>\n",
       "      <td>E</td>\n",
       "      <td>B</td>\n",
       "    </tr>\n",
       "    <tr>\n",
       "      <th>7435</th>\n",
       "      <td>1</td>\n",
       "      <td>6.25</td>\n",
       "      <td>NaN</td>\n",
       "      <td>NaN</td>\n",
       "      <td>NaN</td>\n",
       "      <td>NaN</td>\n",
       "      <td>NaN</td>\n",
       "      <td>NaN</td>\n",
       "      <td>NaN</td>\n",
       "      <td>NaN</td>\n",
       "    </tr>\n",
       "    <tr>\n",
       "      <th>7436</th>\n",
       "      <td>2</td>\n",
       "      <td>15.10</td>\n",
       "      <td>H</td>\n",
       "      <td>H</td>\n",
       "      <td>H</td>\n",
       "      <td>H</td>\n",
       "      <td>G</td>\n",
       "      <td>H</td>\n",
       "      <td>G</td>\n",
       "      <td>C</td>\n",
       "    </tr>\n",
       "  </tbody>\n",
       "</table>\n",
       "<p>2847 rows × 10 columns</p>\n",
       "</div>"
      ],
      "text/plain": [
       "      PAT_SEX  PAT_AGE VAL_I1 VAL_I2 VAL_C1 VAL_PM1 VAL_PM2 VAL_M1 VAL_M2  \\\n",
       "ID                                                                          \n",
       "1           2     4.58      C      C      C       C       B      E      B   \n",
       "2           2     8.26      G      G      E       E       D      G      D   \n",
       "3           2     9.04      H      H      F       E       E      G      D   \n",
       "4           2     9.86      H      H      F       F       E      H      E   \n",
       "5           2    10.35      H      H      F       F       E      G      E   \n",
       "...       ...      ...    ...    ...    ...     ...     ...    ...    ...   \n",
       "7431        1    15.89      H      H      H       H     NaN      H      H   \n",
       "7432        2    12.73      H      H      G       G       F      H      F   \n",
       "7434        1     8.39      H      H      F       E       E      G      E   \n",
       "7435        1     6.25    NaN    NaN    NaN     NaN     NaN    NaN    NaN   \n",
       "7436        2    15.10      H      H      H       H       G      H      G   \n",
       "\n",
       "     VAL_M3  \n",
       "ID           \n",
       "1         0  \n",
       "2         0  \n",
       "3         0  \n",
       "4         0  \n",
       "5         0  \n",
       "...     ...  \n",
       "7431      D  \n",
       "7432      C  \n",
       "7434      B  \n",
       "7435    NaN  \n",
       "7436      C  \n",
       "\n",
       "[2847 rows x 10 columns]"
      ]
     },
     "execution_count": 78,
     "metadata": {},
     "output_type": "execute_result"
    }
   ],
   "source": [
    "import pandas as pd\n",
    "\n",
    "df = pd.read_csv(\"dataset.csv\", index_col=\"ID\", sep=\";\")\n",
    "df"
   ]
  },
  {
   "cell_type": "markdown",
   "metadata": {},
   "source": [
    "### 2. Pour chacune des caractéristiques (hors sexe), calculer la moyenne et l’écart-type des valeurs. Proposer une visualisation de ces statistiques"
   ]
  },
  {
   "cell_type": "code",
   "execution_count": 79,
   "metadata": {},
   "outputs": [
    {
     "name": "stdout",
     "output_type": "stream",
     "text": [
      "L'age moyen est de  PAT_AGE    12.329045\n",
      "dtype: float64 l'écart type est de  PAT_AGE    5.25424\n",
      "dtype: float64\n"
     ]
    }
   ],
   "source": [
    "age_moy = df[[\"PAT_AGE\"]].mean()\n",
    "age_ecart = df[[\"PAT_AGE\"]].std()\n",
    "print(\"L'age moyen est de \", age_moy, \"l'écart type est de \", age_ecart)"
   ]
  },
  {
   "cell_type": "code",
   "execution_count": 80,
   "metadata": {},
   "outputs": [
    {
     "name": "stdout",
     "output_type": "stream",
     "text": [
      "<class 'pandas.core.frame.DataFrame'>\n",
      "Int64Index: 2847 entries, 1 to 7436\n",
      "Data columns (total 10 columns):\n",
      " #   Column   Non-Null Count  Dtype  \n",
      "---  ------   --------------  -----  \n",
      " 0   PAT_SEX  2847 non-null   int64  \n",
      " 1   PAT_AGE  2847 non-null   float64\n",
      " 2   VAL_I1   2530 non-null   float64\n",
      " 3   VAL_I2   2573 non-null   float64\n",
      " 4   VAL_C1   2672 non-null   float64\n",
      " 5   VAL_PM1  2682 non-null   float64\n",
      " 6   VAL_PM2  2493 non-null   float64\n",
      " 7   VAL_M1   2611 non-null   float64\n",
      " 8   VAL_M2   2654 non-null   float64\n",
      " 9   VAL_M3   1750 non-null   float64\n",
      "dtypes: float64(9), int64(1)\n",
      "memory usage: 244.7 KB\n"
     ]
    }
   ],
   "source": [
    "# Concernant la moyenne et l'écart types pour les autres valeurs, nous ne pouvons pas les calculer étant donné que \n",
    "# les valeurs ne sont pas des int. Pour cela, nous avons donné à chaque lettres un indices de maturité \n",
    "# Ex : A = 2, B = 3 etc...\n",
    "\n",
    "df = df.replace({'A': 2, 'B':3, 'C':4,'D': 5,'E': 6,'F': 7,'G': 8,'H': 9})\n",
    "df[\"VAL_M3\"] = pd.to_numeric(df[\"VAL_M3\"])\n",
    "df.info()"
   ]
  },
  {
   "cell_type": "code",
   "execution_count": 81,
   "metadata": {},
   "outputs": [
    {
     "name": "stdout",
     "output_type": "stream",
     "text": [
      "      PAT_SEX  PAT_AGE  VAL_I1  VAL_I2  VAL_C1  VAL_PM1  VAL_PM2  VAL_M1  \\\n",
      "ID                                                                         \n",
      "1           2     4.58     4.0     4.0     4.0      4.0      3.0     6.0   \n",
      "2           2     8.26     8.0     8.0     6.0      6.0      5.0     8.0   \n",
      "3           2     9.04     9.0     9.0     7.0      6.0      6.0     8.0   \n",
      "4           2     9.86     9.0     9.0     7.0      7.0      6.0     9.0   \n",
      "5           2    10.35     9.0     9.0     7.0      7.0      6.0     8.0   \n",
      "...       ...      ...     ...     ...     ...      ...      ...     ...   \n",
      "7431        1    15.89     9.0     9.0     9.0      9.0      NaN     9.0   \n",
      "7432        2    12.73     9.0     9.0     8.0      8.0      7.0     9.0   \n",
      "7434        1     8.39     9.0     9.0     7.0      6.0      6.0     8.0   \n",
      "7435        1     6.25     NaN     NaN     NaN      NaN      NaN     NaN   \n",
      "7436        2    15.10     9.0     9.0     9.0      9.0      8.0     9.0   \n",
      "\n",
      "      VAL_M2  VAL_M3  \n",
      "ID                    \n",
      "1        3.0     0.0  \n",
      "2        5.0     0.0  \n",
      "3        5.0     0.0  \n",
      "4        6.0     0.0  \n",
      "5        6.0     0.0  \n",
      "...      ...     ...  \n",
      "7431     9.0     5.0  \n",
      "7432     7.0     4.0  \n",
      "7434     6.0     3.0  \n",
      "7435     NaN     NaN  \n",
      "7436     8.0     4.0  \n",
      "\n",
      "[2847 rows x 10 columns]\n",
      "Moyenne : \n",
      " PAT_AGE    12.329045\n",
      "VAL_I1      8.463241\n",
      "VAL_I2      8.232414\n",
      "VAL_C1      7.584955\n",
      "VAL_PM1     7.445936\n",
      "VAL_PM2     6.991978\n",
      "VAL_M1      8.388357\n",
      "VAL_M2      6.854559\n",
      "VAL_M3      4.856571\n",
      "dtype: float64 Écart Types :\n",
      " PAT_AGE    5.254240\n",
      "VAL_I1     1.065858\n",
      "VAL_I2     1.304827\n",
      "VAL_C1     1.572498\n",
      "VAL_PM1    1.705757\n",
      "VAL_PM2    1.930976\n",
      "VAL_M1     0.944475\n",
      "VAL_M2     1.875292\n",
      "VAL_M3     2.534270\n",
      "dtype: float64\n"
     ]
    }
   ],
   "source": [
    "print(df)\n",
    "\n",
    "# On fait un drop afin de supprimer la colonne PAT_SEX et on fait cela avec un nouveau dataframe\n",
    "df1 = df.drop(columns=['PAT_SEX'])\n",
    "moyenne = df1.mean()\n",
    "ecart_types = df1.std()\n",
    "\n",
    "print(\"Moyenne : \\n\", moyenne, \"Écart Types :\\n\", ecart_types)"
   ]
  },
  {
   "cell_type": "code",
   "execution_count": 82,
   "metadata": {},
   "outputs": [
    {
     "data": {
      "image/png": "[encoded data removed]",
      "text/plain": [
       "<Figure size 432x288 with 1 Axes>"
      ]
     },
     "metadata": {
      "needs_background": "light"
     },
     "output_type": "display_data"
    }
   ],
   "source": [
    "# Visualisation graphique pour la moyenne \n",
    "import matplotlib.pyplot as plt\n",
    "\n",
    "plt.suptitle(\"Moyenne\", \n",
    "          fontdict={'family': 'serif', \n",
    "                    'color' : 'darkblue',\n",
    "                    'weight': 'bold',\n",
    "                    'size': 18})\n",
    "moy_graph = moyenne.plot.bar()"
   ]
  },
  {
   "cell_type": "code",
   "execution_count": 83,
   "metadata": {},
   "outputs": [
    {
     "data": {
      "image/png": "[encoded data removed]",
      "text/plain": [
       "<Figure size 432x288 with 1 Axes>"
      ]
     },
     "metadata": {
      "needs_background": "light"
     },
     "output_type": "display_data"
    }
   ],
   "source": [
    "# Visualisation graphique pour l'Écart types\n",
    "plt.suptitle(\"Écart Types\", \n",
    "          fontdict={'family': 'serif', \n",
    "                    'color' : 'darkblue',\n",
    "                    'weight': 'bold',\n",
    "                    'size': 18})\n",
    "ecart_graph = ecart_types.plot.bar()"
   ]
  },
  {
   "cell_type": "markdown",
   "metadata": {},
   "source": [
    "### 3.Pour chacune des caractéristiques, afficher la distribution des valeurs. Que pensez-vous de ces distributions ?"
   ]
  },
  {
   "cell_type": "code",
   "execution_count": 99,
   "metadata": {},
   "outputs": [
    {
     "data": {
      "image/png": "[encoded data removed]",
      "text/plain": [
       "<Figure size 432x288 with 4 Axes>"
      ]
     },
     "metadata": {
      "needs_background": "light"
     },
     "output_type": "display_data"
    }
   ],
   "source": [
    "test = df1[['VAL_I1', 'VAL_I2', 'VAL_C1', 'VAL_PM1']].hist(bins=25)"
   ]
  },
  {
   "cell_type": "code",
   "execution_count": 100,
   "metadata": {},
   "outputs": [
    {
     "data": {
      "image/png": "[encoded data removed]",
      "text/plain": [
       "<Figure size 432x288 with 4 Axes>"
      ]
     },
     "metadata": {
      "needs_background": "light"
     },
     "output_type": "display_data"
    }
   ],
   "source": [
    "test = df1[['VAL_PM2', 'VAL_M1', 'VAL_M2', 'VAL_M3']].hist(bins=25)"
   ]
  },
  {
   "cell_type": "code",
   "execution_count": 86,
   "metadata": {},
   "outputs": [],
   "source": [
    "# Nous observons globalement, et ce pour quasiment la totalité des caractéristique, une domination claire de\n",
    "# l'élement 9 ( à savoir H).\n",
    "# Nous observons une distribution Gausienne pour la plupart, mis à part pour VAL_M1 où nous abservons une distri\n",
    "# -bution exponnetielle."
   ]
  },
  {
   "cell_type": "markdown",
   "metadata": {},
   "source": [
    "## 4. Vous devriez avoir remarqué qu’un certain nombre de données sont marquées NULL car non renseignées. Proposer une ou plusieurs méthodes permettant de remplacer ces données par une valeur cohérente vis-à-vis du dataset. Ces méthodes peuvent varier d’une caractéristique à l’autre."
   ]
  },
  {
   "cell_type": "code",
   "execution_count": 93,
   "metadata": {},
   "outputs": [
    {
     "data": {
      "text/html": [
       "<div>\n",
       "<style scoped>\n",
       "    .dataframe tbody tr th:only-of-type {\n",
       "        vertical-align: middle;\n",
       "    }\n",
       "\n",
       "    .dataframe tbody tr th {\n",
       "        vertical-align: top;\n",
       "    }\n",
       "\n",
       "    .dataframe thead th {\n",
       "        text-align: right;\n",
       "    }\n",
       "</style>\n",
       "<table border=\"1\" class=\"dataframe\">\n",
       "  <thead>\n",
       "    <tr style=\"text-align: right;\">\n",
       "      <th></th>\n",
       "      <th>PAT_SEX</th>\n",
       "      <th>PAT_AGE</th>\n",
       "      <th>VAL_I1</th>\n",
       "      <th>VAL_I2</th>\n",
       "      <th>VAL_C1</th>\n",
       "      <th>VAL_PM1</th>\n",
       "      <th>VAL_PM2</th>\n",
       "      <th>VAL_M1</th>\n",
       "      <th>VAL_M2</th>\n",
       "      <th>VAL_M3</th>\n",
       "    </tr>\n",
       "    <tr>\n",
       "      <th>ID</th>\n",
       "      <th></th>\n",
       "      <th></th>\n",
       "      <th></th>\n",
       "      <th></th>\n",
       "      <th></th>\n",
       "      <th></th>\n",
       "      <th></th>\n",
       "      <th></th>\n",
       "      <th></th>\n",
       "      <th></th>\n",
       "    </tr>\n",
       "  </thead>\n",
       "  <tbody>\n",
       "    <tr>\n",
       "      <th>1</th>\n",
       "      <td>2</td>\n",
       "      <td>5.0</td>\n",
       "      <td>4.0</td>\n",
       "      <td>4.0</td>\n",
       "      <td>4.0</td>\n",
       "      <td>4.0</td>\n",
       "      <td>3.0</td>\n",
       "      <td>6.0</td>\n",
       "      <td>3.0</td>\n",
       "      <td>0.0</td>\n",
       "    </tr>\n",
       "    <tr>\n",
       "      <th>2</th>\n",
       "      <td>2</td>\n",
       "      <td>8.0</td>\n",
       "      <td>8.0</td>\n",
       "      <td>8.0</td>\n",
       "      <td>6.0</td>\n",
       "      <td>6.0</td>\n",
       "      <td>5.0</td>\n",
       "      <td>8.0</td>\n",
       "      <td>5.0</td>\n",
       "      <td>0.0</td>\n",
       "    </tr>\n",
       "    <tr>\n",
       "      <th>3</th>\n",
       "      <td>2</td>\n",
       "      <td>9.0</td>\n",
       "      <td>9.0</td>\n",
       "      <td>9.0</td>\n",
       "      <td>7.0</td>\n",
       "      <td>6.0</td>\n",
       "      <td>6.0</td>\n",
       "      <td>8.0</td>\n",
       "      <td>5.0</td>\n",
       "      <td>0.0</td>\n",
       "    </tr>\n",
       "    <tr>\n",
       "      <th>4</th>\n",
       "      <td>2</td>\n",
       "      <td>10.0</td>\n",
       "      <td>9.0</td>\n",
       "      <td>9.0</td>\n",
       "      <td>7.0</td>\n",
       "      <td>7.0</td>\n",
       "      <td>6.0</td>\n",
       "      <td>9.0</td>\n",
       "      <td>6.0</td>\n",
       "      <td>0.0</td>\n",
       "    </tr>\n",
       "    <tr>\n",
       "      <th>5</th>\n",
       "      <td>2</td>\n",
       "      <td>10.0</td>\n",
       "      <td>9.0</td>\n",
       "      <td>9.0</td>\n",
       "      <td>7.0</td>\n",
       "      <td>7.0</td>\n",
       "      <td>6.0</td>\n",
       "      <td>8.0</td>\n",
       "      <td>6.0</td>\n",
       "      <td>0.0</td>\n",
       "    </tr>\n",
       "    <tr>\n",
       "      <th>...</th>\n",
       "      <td>...</td>\n",
       "      <td>...</td>\n",
       "      <td>...</td>\n",
       "      <td>...</td>\n",
       "      <td>...</td>\n",
       "      <td>...</td>\n",
       "      <td>...</td>\n",
       "      <td>...</td>\n",
       "      <td>...</td>\n",
       "      <td>...</td>\n",
       "    </tr>\n",
       "    <tr>\n",
       "      <th>7431</th>\n",
       "      <td>1</td>\n",
       "      <td>16.0</td>\n",
       "      <td>9.0</td>\n",
       "      <td>9.0</td>\n",
       "      <td>9.0</td>\n",
       "      <td>9.0</td>\n",
       "      <td>7.0</td>\n",
       "      <td>9.0</td>\n",
       "      <td>9.0</td>\n",
       "      <td>5.0</td>\n",
       "    </tr>\n",
       "    <tr>\n",
       "      <th>7432</th>\n",
       "      <td>2</td>\n",
       "      <td>13.0</td>\n",
       "      <td>9.0</td>\n",
       "      <td>9.0</td>\n",
       "      <td>8.0</td>\n",
       "      <td>8.0</td>\n",
       "      <td>7.0</td>\n",
       "      <td>9.0</td>\n",
       "      <td>7.0</td>\n",
       "      <td>4.0</td>\n",
       "    </tr>\n",
       "    <tr>\n",
       "      <th>7434</th>\n",
       "      <td>1</td>\n",
       "      <td>8.0</td>\n",
       "      <td>9.0</td>\n",
       "      <td>9.0</td>\n",
       "      <td>7.0</td>\n",
       "      <td>6.0</td>\n",
       "      <td>6.0</td>\n",
       "      <td>8.0</td>\n",
       "      <td>6.0</td>\n",
       "      <td>3.0</td>\n",
       "    </tr>\n",
       "    <tr>\n",
       "      <th>7435</th>\n",
       "      <td>1</td>\n",
       "      <td>6.0</td>\n",
       "      <td>8.0</td>\n",
       "      <td>8.0</td>\n",
       "      <td>8.0</td>\n",
       "      <td>7.0</td>\n",
       "      <td>7.0</td>\n",
       "      <td>8.0</td>\n",
       "      <td>7.0</td>\n",
       "      <td>5.0</td>\n",
       "    </tr>\n",
       "    <tr>\n",
       "      <th>7436</th>\n",
       "      <td>2</td>\n",
       "      <td>15.0</td>\n",
       "      <td>9.0</td>\n",
       "      <td>9.0</td>\n",
       "      <td>9.0</td>\n",
       "      <td>9.0</td>\n",
       "      <td>8.0</td>\n",
       "      <td>9.0</td>\n",
       "      <td>8.0</td>\n",
       "      <td>4.0</td>\n",
       "    </tr>\n",
       "  </tbody>\n",
       "</table>\n",
       "<p>2847 rows × 10 columns</p>\n",
       "</div>"
      ],
      "text/plain": [
       "      PAT_SEX  PAT_AGE  VAL_I1  VAL_I2  VAL_C1  VAL_PM1  VAL_PM2  VAL_M1  \\\n",
       "ID                                                                         \n",
       "1           2      5.0     4.0     4.0     4.0      4.0      3.0     6.0   \n",
       "2           2      8.0     8.0     8.0     6.0      6.0      5.0     8.0   \n",
       "3           2      9.0     9.0     9.0     7.0      6.0      6.0     8.0   \n",
       "4           2     10.0     9.0     9.0     7.0      7.0      6.0     9.0   \n",
       "5           2     10.0     9.0     9.0     7.0      7.0      6.0     8.0   \n",
       "...       ...      ...     ...     ...     ...      ...      ...     ...   \n",
       "7431        1     16.0     9.0     9.0     9.0      9.0      7.0     9.0   \n",
       "7432        2     13.0     9.0     9.0     8.0      8.0      7.0     9.0   \n",
       "7434        1      8.0     9.0     9.0     7.0      6.0      6.0     8.0   \n",
       "7435        1      6.0     8.0     8.0     8.0      7.0      7.0     8.0   \n",
       "7436        2     15.0     9.0     9.0     9.0      9.0      8.0     9.0   \n",
       "\n",
       "      VAL_M2  VAL_M3  \n",
       "ID                    \n",
       "1        3.0     0.0  \n",
       "2        5.0     0.0  \n",
       "3        5.0     0.0  \n",
       "4        6.0     0.0  \n",
       "5        6.0     0.0  \n",
       "...      ...     ...  \n",
       "7431     9.0     5.0  \n",
       "7432     7.0     4.0  \n",
       "7434     6.0     3.0  \n",
       "7435     7.0     5.0  \n",
       "7436     8.0     4.0  \n",
       "\n",
       "[2847 rows x 10 columns]"
      ]
     },
     "execution_count": 93,
     "metadata": {},
     "output_type": "execute_result"
    }
   ],
   "source": [
    "# Remplacer les NaN par les valeurs en fonction des distributions ? \n",
    "\n",
    "# On remplace les NaN de chaque colonne par la moyenne de celle ci.\n",
    "\n",
    "df2=df.fillna(df.mean())\n",
    "# On arrondi ensuite \n",
    "round(df2)"
   ]
  },
  {
   "cell_type": "markdown",
   "metadata": {},
   "source": [
    "## 5. En réutilisant les fonctions développées dans les besoins 2 et 3, évaluer l’impact de ces méthodes sur le dataset."
   ]
  },
  {
   "cell_type": "code",
   "execution_count": 94,
   "metadata": {},
   "outputs": [
    {
     "name": "stdout",
     "output_type": "stream",
     "text": [
      "Moyenne : \n",
      " PAT_AGE    12.329045\n",
      "VAL_I1      8.463241\n",
      "VAL_I2      8.232414\n",
      "VAL_C1      7.584955\n",
      "VAL_PM1     7.445936\n",
      "VAL_PM2     6.991978\n",
      "VAL_M1      8.388357\n",
      "VAL_M2      6.854559\n",
      "VAL_M3      4.856571\n",
      "dtype: float64 Écart Types :\n",
      " PAT_AGE    5.254240\n",
      "VAL_I1     1.004747\n",
      "VAL_I2     1.240426\n",
      "VAL_C1     1.523385\n",
      "VAL_PM1    1.655573\n",
      "VAL_PM2    1.806897\n",
      "VAL_M1     0.904468\n",
      "VAL_M2     1.810590\n",
      "VAL_M3     1.986691\n",
      "dtype: float64\n"
     ]
    }
   ],
   "source": [
    "df3 = df2.drop(columns=['PAT_SEX'])\n",
    "moyenne_v2 = df3.mean()\n",
    "ecart_types_v2 = df3.std()\n",
    "\n",
    "print(\"Moyenne : \\n\", moyenne_v2, \"Écart Types :\\n\", ecart_types_v2)"
   ]
  },
  {
   "cell_type": "code",
   "execution_count": 95,
   "metadata": {},
   "outputs": [
    {
     "data": {
      "image/png": "[encoded data removed]",
      "text/plain": [
       "<Figure size 432x288 with 1 Axes>"
      ]
     },
     "metadata": {
      "needs_background": "light"
     },
     "output_type": "display_data"
    }
   ],
   "source": [
    "plt.suptitle(\"Moyenne V2\", \n",
    "          fontdict={'family': 'serif', \n",
    "                    'color' : 'darkblue',\n",
    "                    'weight': 'bold',\n",
    "                    'size': 18})\n",
    "moy_graph_v2 = moyenne_v2.plot.bar()"
   ]
  },
  {
   "cell_type": "code",
   "execution_count": 96,
   "metadata": {},
   "outputs": [
    {
     "data": {
      "image/png": "[encoded data removed]",
      "text/plain": [
       "<Figure size 432x288 with 1 Axes>"
      ]
     },
     "metadata": {
      "needs_background": "light"
     },
     "output_type": "display_data"
    }
   ],
   "source": [
    "plt.suptitle(\"Écart Types\", \n",
    "          fontdict={'family': 'serif', \n",
    "                    'color' : 'darkblue',\n",
    "                    'weight': 'bold',\n",
    "                    'size': 18})\n",
    "ecart_graph = ecart_types_v2.plot.bar()"
   ]
  },
  {
   "cell_type": "code",
   "execution_count": 103,
   "metadata": {},
   "outputs": [
    {
     "name": "stdout",
     "output_type": "stream",
     "text": [
      "Avant manipulation des NaN :  [[<matplotlib.axes._subplots.AxesSubplot object at 0x7fa523192d00>]] Apres manipulation des NaN :  [[<matplotlib.axes._subplots.AxesSubplot object at 0x7fa5234768e0>]]\n"
     ]
    },
    {
     "data": {
      "image/png": "[encoded data removed]",
      "text/plain": [
       "<Figure size 432x288 with 1 Axes>"
      ]
     },
     "metadata": {
      "needs_background": "light"
     },
     "output_type": "display_data"
    },
    {
     "data": {
      "image/png": "[encoded data removed]",
      "text/plain": [
       "<Figure size 432x288 with 1 Axes>"
      ]
     },
     "metadata": {
      "needs_background": "light"
     },
     "output_type": "display_data"
    }
   ],
   "source": [
    "#test_v2 = df3[['VAL_I1', 'VAL_I2', 'VAL_C1', 'VAL_PM1']].hist(bins=25)\n",
    "print(\"Avant manipulation des NaN : \" ,df1[['VAL_I1']].hist(bins=25), \"Apres manipulation des NaN : \" ,df3[['VAL_I1']].hist(bins=25))"
   ]
  },
  {
   "cell_type": "code",
   "execution_count": 104,
   "metadata": {},
   "outputs": [
    {
     "name": "stdout",
     "output_type": "stream",
     "text": [
      "Avant manipulation des NaN :  [[<matplotlib.axes._subplots.AxesSubplot object at 0x7fa524bc0280>]] Apres manipulation des NaN :  [[<matplotlib.axes._subplots.AxesSubplot object at 0x7fa52572b940>]]\n"
     ]
    },
    {
     "data": {
      "image/png": "[encoded data removed]",
      "text/plain": [
       "<Figure size 432x288 with 1 Axes>"
      ]
     },
     "metadata": {
      "needs_background": "light"
     },
     "output_type": "display_data"
    },
    {
     "data": {
      "image/png": "[encoded data removed]",
      "text/plain": [
       "<Figure size 432x288 with 1 Axes>"
      ]
     },
     "metadata": {
      "needs_background": "light"
     },
     "output_type": "display_data"
    }
   ],
   "source": [
    "print(\"Avant manipulation des NaN : \" ,df1[['VAL_I2']].hist(bins=25), \"Apres manipulation des NaN : \" ,df3[['VAL_I2']].hist(bins=25))\n",
    "\n",
    "\n"
   ]
  },
  {
   "cell_type": "code",
   "execution_count": 105,
   "metadata": {},
   "outputs": [
    {
     "name": "stdout",
     "output_type": "stream",
     "text": [
      "Avant manipulation des NaN :  [[<matplotlib.axes._subplots.AxesSubplot object at 0x7fa525a21fd0>]] Apres manipulation des NaN :  [[<matplotlib.axes._subplots.AxesSubplot object at 0x7fa52424df40>]]\n"
     ]
    },
    {
     "data": {
      "image/png": "[encoded data removed]",
      "text/plain": [
       "<Figure size 432x288 with 1 Axes>"
      ]
     },
     "metadata": {
      "needs_background": "light"
     },
     "output_type": "display_data"
    },
    {
     "data": {
      "image/png": "[encoded data removed]",
      "text/plain": [
       "<Figure size 432x288 with 1 Axes>"
      ]
     },
     "metadata": {
      "needs_background": "light"
     },
     "output_type": "display_data"
    }
   ],
   "source": [
    "print(\"Avant manipulation des NaN : \" ,df1[['VAL_C1']].hist(bins=25), \"Apres manipulation des NaN : \" ,df3[['VAL_C1']].hist(bins=25))\n",
    "\n",
    "\n"
   ]
  },
  {
   "cell_type": "code",
   "execution_count": 106,
   "metadata": {},
   "outputs": [
    {
     "name": "stdout",
     "output_type": "stream",
     "text": [
      "Avant manipulation des NaN :  [[<matplotlib.axes._subplots.AxesSubplot object at 0x7fa5262e7b50>]] Apres manipulation des NaN :  [[<matplotlib.axes._subplots.AxesSubplot object at 0x7fa5262fb790>]]\n"
     ]
    },
    {
     "data": {
      "image/png": "[encoded data removed]",
      "text/plain": [
       "<Figure size 432x288 with 1 Axes>"
      ]
     },
     "metadata": {
      "needs_background": "light"
     },
     "output_type": "display_data"
    },
    {
     "data": {
      "image/png": "[encoded data removed]",
      "text/plain": [
       "<Figure size 432x288 with 1 Axes>"
      ]
     },
     "metadata": {
      "needs_background": "light"
     },
     "output_type": "display_data"
    }
   ],
   "source": [
    "print(\"Avant manipulation des NaN : \" ,df1[['VAL_PM1']].hist(bins=25), \"Apres manipulation des NaN : \" ,df3[['VAL_PM1']].hist(bins=25))\n",
    "\n"
   ]
  },
  {
   "cell_type": "code",
   "execution_count": 107,
   "metadata": {},
   "outputs": [
    {
     "name": "stdout",
     "output_type": "stream",
     "text": [
      "Avant manipulation des NaN :  [[<matplotlib.axes._subplots.AxesSubplot object at 0x7fa5240cc070>]] Apres manipulation des NaN :  [[<matplotlib.axes._subplots.AxesSubplot object at 0x7fa523df44f0>]]\n"
     ]
    },
    {
     "data": {
      "image/png": "[encoded data removed]",
      "text/plain": [
       "<Figure size 432x288 with 1 Axes>"
      ]
     },
     "metadata": {
      "needs_background": "light"
     },
     "output_type": "display_data"
    },
    {
     "data": {
      "image/png": "[encoded data removed]",
      "text/plain": [
       "<Figure size 432x288 with 1 Axes>"
      ]
     },
     "metadata": {
      "needs_background": "light"
     },
     "output_type": "display_data"
    }
   ],
   "source": [
    "print(\"Avant manipulation des NaN : \" ,df1[['VAL_PM2']].hist(bins=25), \"Apres manipulation des NaN : \" ,df3[['VAL_PM2']].hist(bins=25))\n",
    "\n"
   ]
  },
  {
   "cell_type": "code",
   "execution_count": 108,
   "metadata": {},
   "outputs": [
    {
     "name": "stdout",
     "output_type": "stream",
     "text": [
      "Avant manipulation des NaN :  [[<matplotlib.axes._subplots.AxesSubplot object at 0x7fa521ff21c0>]] Apres manipulation des NaN :  [[<matplotlib.axes._subplots.AxesSubplot object at 0x7fa5241849d0>]]\n"
     ]
    },
    {
     "data": {
      "image/png": "[encoded data removed]",
      "text/plain": [
       "<Figure size 432x288 with 1 Axes>"
      ]
     },
     "metadata": {
      "needs_background": "light"
     },
     "output_type": "display_data"
    },
    {
     "data": {
      "image/png": "[encoded data removed]",
      "text/plain": [
       "<Figure size 432x288 with 1 Axes>"
      ]
     },
     "metadata": {
      "needs_background": "light"
     },
     "output_type": "display_data"
    }
   ],
   "source": [
    "print(\"Avant manipulation des NaN : \" ,df1[['VAL_M1']].hist(bins=25), \"Apres manipulation des NaN : \" ,df3[['VAL_M1']].hist(bins=25))\n",
    "\n"
   ]
  },
  {
   "cell_type": "code",
   "execution_count": 109,
   "metadata": {},
   "outputs": [
    {
     "name": "stdout",
     "output_type": "stream",
     "text": [
      "Avant manipulation des NaN :  [[<matplotlib.axes._subplots.AxesSubplot object at 0x7fa5234172b0>]] Apres manipulation des NaN :  [[<matplotlib.axes._subplots.AxesSubplot object at 0x7fa523427ac0>]]\n"
     ]
    },
    {
     "data": {
      "image/png": "[encoded data removed]",
      "text/plain": [
       "<Figure size 432x288 with 1 Axes>"
      ]
     },
     "metadata": {
      "needs_background": "light"
     },
     "output_type": "display_data"
    },
    {
     "data": {
      "image/png": "[encoded data removed]",
      "text/plain": [
       "<Figure size 432x288 with 1 Axes>"
      ]
     },
     "metadata": {
      "needs_background": "light"
     },
     "output_type": "display_data"
    }
   ],
   "source": [
    "print(\"Avant manipulation des NaN : \" ,df1[['VAL_M2']].hist(bins=25), \"Apres manipulation des NaN : \" ,df3[['VAL_M2']].hist(bins=25))\n",
    "\n"
   ]
  },
  {
   "cell_type": "code",
   "execution_count": 110,
   "metadata": {},
   "outputs": [
    {
     "name": "stdout",
     "output_type": "stream",
     "text": [
      "Avant manipulation des NaN :  [[<matplotlib.axes._subplots.AxesSubplot object at 0x7fa520f05f40>]] Apres manipulation des NaN :  [[<matplotlib.axes._subplots.AxesSubplot object at 0x7fa52482b1f0>]]\n"
     ]
    },
    {
     "data": {
      "image/png": "[encoded data removed]",
      "text/plain": [
       "<Figure size 432x288 with 1 Axes>"
      ]
     },
     "metadata": {
      "needs_background": "light"
     },
     "output_type": "display_data"
    },
    {
     "data": {
      "image/png": "[encoded data removed]",
      "text/plain": [
       "<Figure size 432x288 with 1 Axes>"
      ]
     },
     "metadata": {
      "needs_background": "light"
     },
     "output_type": "display_data"
    }
   ],
   "source": [
    "print(\"Avant manipulation des NaN : \" ,df1[['VAL_M3']].hist(bins=25), \"Apres manipulation des NaN : \" ,df3[['VAL_M3']].hist(bins=25))\n",
    "\n"
   ]
  },
  {
   "cell_type": "code",
   "execution_count": 111,
   "metadata": {},
   "outputs": [],
   "source": [
    "# Concernant les moyennes et les écarts types, les manipulations faites précédement ne change pas de façon \n",
    "# significative les représentations graphiques.\n",
    "\n",
    "# Cependant, pour les distributions, on remarque"
   ]
  },
  {
   "cell_type": "markdown",
   "metadata": {},
   "source": [
    "## 6. Développer un algorithme permettant de diviser le dataset en 2 dataset : 1 pour l’entrainement des futurs algorithmes de machine learning et l’autre pour leur évaluation sur des données jamais vu au précédent. Pour cela, l’algorithme :\n",
    "     - Prend en entrée : le dataset, la répartition de la division (par exemple 70% pour l’entrainement et 30% pour l’évaluation)\n",
    "     - Retourne : 2 datasets (entrainement et évaluation)\n",
    "     - Contraintes :\n",
    "         o Une ligne de données ne peut être présente que dans un et un seul dataset de sortie,\n",
    "         o La répartition doit être complètement aléatoire et différente à chaque appel de la fonction,\n",
    "         o L’algorithme doit être parfaitement utilisable quel que soit le dataset."
   ]
  },
  {
   "cell_type": "code",
   "execution_count": null,
   "metadata": {},
   "outputs": [],
   "source": []
  }
 ],
 "metadata": {
  "kernelspec": {
   "display_name": "Python 3",
   "language": "python",
   "name": "python3"
  },
  "language_info": {
   "codemirror_mode": {
    "name": "ipython",
    "version": 3
   },
   "file_extension": ".py",
   "mimetype": "text/x-python",
   "name": "python",
   "nbconvert_exporter": "python",
   "pygments_lexer": "ipython3",
   "version": "3.8.3"
  }
 },
 "nbformat": 4,
 "nbformat_minor": 4
}
